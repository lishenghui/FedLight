{
 "cells": [
  {
   "cell_type": "code",
   "execution_count": null,
   "id": "f7f6ad58",
   "metadata": {},
   "outputs": [],
   "source": [
    "import glob\n",
    "from tabulate import tabulate\n",
    "from texttable import Texttable\n",
    "import json\n",
    "import latextable\n",
    "import numpy as np\n",
    "import re\n",
    "import pandas as pd\n",
    "import matplotlib.pyplot as plt\n",
    "import latextable\n",
    "import seaborn as sns"
   ]
  },
  {
   "cell_type": "code",
   "execution_count": null,
   "id": "3962e148",
   "metadata": {},
   "outputs": [],
   "source": [
    "def read_json(path):\n",
    "    validation = []\n",
    "    with open(path, \"r\") as f:\n",
    "        count = 0\n",
    "        for line in f:\n",
    "            line=line.strip().replace(\"'\", '\"')\n",
    "            line = line.replace(\"nan\", '100.0')\n",
    "            count+=1\n",
    "            if count % 2 == 0: #this is the remainder operator\n",
    "                continue\n",
    "#             ine = line.replace(\"nan\", '\"nan\"')\n",
    "            try:\n",
    "                data = json.loads(line)\n",
    "            except:\n",
    "                print(line)\n",
    "                raise\n",
    "            if data['_meta']['type'] == 'test':\n",
    "                validation.append({\n",
    "                    \"Round\": data[\"Round\"], \n",
    "                    \"Accuracy (%)\": data['top1'],\n",
    "                    r\"$\\beta$\": float(re.findall(\".*momentum(.*)_bz.*\",path)[0]),\n",
    "                    \"Agg\": path.split(\"_\")[7],\n",
    "                    \"Loss\": data[\"Loss\"],\n",
    "                })\n",
    "    return validation\n",
    "\n",
    "                    \n",
    "def transform(entry, atk, agg, m, s, d, b, bz):\n",
    "    if \"large\" in atk:\n",
    "        atk_name = r\"IPM ($\\epsilon = 100$)\"\n",
    "    elif atk == \"IPM\":\n",
    "        atk_name = r\"IPM ($\\epsilon = 0.5$)\"\n",
    "    else:\n",
    "        atk_name = atk\n",
    "        \n",
    "    if b == 0:\n",
    "        atk_name = \"No Attack\"\n",
    "        \n",
    "    return {\n",
    "        'Round Number': entry['E'],\n",
    "        'Accuracy (%)': entry['top1'],\n",
    "        'ATK': atk_name,\n",
    "        \"Batch Size\": bz,\n",
    "        'Setting': d.replace('f', 'F', 1),\n",
    "        'AGG': fedavg_methods[agg]['name'],\n",
    "        r\"$\\beta$\": m,\n",
    "        'seed': s,\n",
    "        r\"$M$\" : b,\n",
    "        r\"$\\delta=0$\": False,\n",
    "    }\n"
   ]
  },
  {
   "cell_type": "code",
   "execution_count": null,
   "id": "cf9be901",
   "metadata": {},
   "outputs": [],
   "source": [
    "root_dir = \"/home/shenghui/blades/scripts/other_outputs/others/cifar10_fedsgd_momentum\"\n",
    "aggs = ['mean', 'krum', 'median', 'trimmedmean',  'centeredclipping', 'clustering', 'clippedclustering']\n",
    "aggs = ['clippedclustering', 'clustering', 'mean', 'krum',  'geomed', 'autogm', 'median', 'trimmedmean',  'centeredclipping']\n",
    "# aggs = ['clippedclustering', 'mean', 'krum',  'geomed', 'autogm', 'median', 'trimmedmean',  'centeredclipping']\n",
    "agg_names = ['\\\\mean', '\\\\krum',  '\\\\gm', '\\\\autogm', '\\\\median', '\\\\tm', '\\\\cc', '\\\\clustering', '\\\\makecell{\\\\footnotesize \\\\ours \\\\\\\\ (ours)}']\n",
    "# agg_names = ['\\\\mean', '\\\\krum',  '\\\\median', '\\\\tm', '\\\\cc', '\\\\clustering', '\\\\makecell{\\\\footnotesize \\\\ours \\\\\\\\ (ours)}']\n",
    "atks = [\"ipm\", \"signflipping\", \"labelflipping\", \"alie\", \"noise\"] #* 2\n",
    "atk_names = [\"IPM\", \"SF\", \"LF\", \"ALIE\", \"Noise\"] #* 2\n",
    "\n",
    "history = []\n",
    "for idx, agg in enumerate(aggs[:]):\n",
    "    row = []\n",
    "    print(agg)\n",
    "    file_paths = glob.glob(f\"{root_dir}/b5_*alie*_{agg}_*/stats\")\n",
    "    print(file_paths, len(file_paths))\n",
    "    for file_path in file_paths:\n",
    "        agg_validation = read_json(file_path)\n",
    "        history.extend(agg_validation)"
   ]
  },
  {
   "cell_type": "code",
   "execution_count": null,
   "id": "07977e84",
   "metadata": {},
   "outputs": [],
   "source": [
    "data = pd.DataFrame(history)"
   ]
  },
  {
   "cell_type": "code",
   "execution_count": null,
   "id": "7fa44267",
   "metadata": {},
   "outputs": [],
   "source": [
    "g = sns.relplot(\n",
    "    data=data,\n",
    "    x=\"Round\", \n",
    "#     y=\"Loss\", \n",
    "    y=\"Accuracy (%)\",\n",
    "    col=r\"$\\beta$\", hue=\"Agg\", style=r\"Agg\",\n",
    "#     hue=r\"$\\beta$\", col=\"Agg\", style=r\"$\\beta$\",\n",
    "    height=2.5, aspect=1.1,\n",
    "    # col_order=col_order,\n",
    "    \n",
    "    # markers=['o', 'x', 'o', 'x', 'o'],\n",
    "    dashes=False,\n",
    "#     markers=True,\n",
    "    col_wrap=4,\n",
    "    # linewidth=3.0,\n",
    "    kind=\"line\",\n",
    ")\n",
    "# g.set(ylim=(0.6, 5))\n",
    "g.set(xlim=(0, 6000))\n",
    "sns.move_legend(g, \"lower center\", bbox_to_anchor=(.45, -0.25), ncol=8, title=None, frameon=False)"
   ]
  },
  {
   "cell_type": "code",
   "execution_count": null,
   "id": "8d7b6da1",
   "metadata": {},
   "outputs": [],
   "source": [
    "data"
   ]
  },
  {
   "cell_type": "code",
   "execution_count": null,
   "id": "33af03bf",
   "metadata": {},
   "outputs": [],
   "source": []
  }
 ],
 "metadata": {
  "kernelspec": {
   "display_name": "Python 3 (ipykernel)",
   "language": "python",
   "name": "python3"
  },
  "language_info": {
   "codemirror_mode": {
    "name": "ipython",
    "version": 3
   },
   "file_extension": ".py",
   "mimetype": "text/x-python",
   "name": "python",
   "nbconvert_exporter": "python",
   "pygments_lexer": "ipython3",
   "version": "3.9.12"
  }
 },
 "nbformat": 4,
 "nbformat_minor": 5
}
